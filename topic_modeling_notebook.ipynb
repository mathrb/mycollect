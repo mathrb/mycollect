{
 "metadata": {
  "language_info": {
   "codemirror_mode": {
    "name": "ipython",
    "version": 3
   },
   "file_extension": ".py",
   "mimetype": "text/x-python",
   "name": "python",
   "nbconvert_exporter": "python",
   "pygments_lexer": "ipython3",
   "version": "3.8.5-final"
  },
  "orig_nbformat": 2,
  "kernelspec": {
   "name": "python3",
   "display_name": "Python 3.8.5 64-bit ('mycollect-oaCs9SWC')",
   "metadata": {
    "interpreter": {
     "hash": "79659b86bc486e67c7a7aa46b33108b775074a8ad5476d22cd5c3c05552b260a"
    }
   }
  }
 },
 "nbformat": 4,
 "nbformat_minor": 2,
 "cells": [
  {
   "cell_type": "code",
   "execution_count": 2,
   "metadata": {},
   "outputs": [],
   "source": [
    "import json \n",
    "import tqdm\n",
    "import numpy as np\n",
    "\n",
    "from langdetect import detect, lang_detect_exception\n",
    "from collections import defaultdict\n",
    "from spacy_langdetect import LanguageDetector\n",
    "\n",
    "from sklearn.feature_extraction.text import CountVectorizer\n",
    "from sklearn.decomposition import NMF, LatentDirichletAllocation, TruncatedSVD\n"
   ]
  },
  {
   "cell_type": "code",
   "execution_count": 3,
   "metadata": {},
   "outputs": [
    {
     "output_type": "stream",
     "name": "stderr",
     "text": [
      "13973it [00:26, 526.44it/s]\n"
     ]
    }
   ],
   "source": [
    "languages = defaultdict(list)\n",
    "urls = set()\n",
    "for line in tqdm.tqdm(open(\"2021_02_05.jsonl\")):\n",
    "    data = json.loads(line)\n",
    "    data = data[\"data\"]\n",
    "    if data[\"url\"] not in urls and \"article\" in data[\"extra\"]:\n",
    "        urls.add(data[\"url\"])\n",
    "        article = data[\"extra\"][\"article\"]\n",
    "        #content = \"{}\\n{}\\n{}\".format(article[\"title\"], article[\"text\"], article[\"keywords\"])\n",
    "        content = article[\"text\"]\n",
    "        try:\n",
    "            lang = detect(content)\n",
    "            languages[lang].append({\"content\": content, \"item\": data})\n",
    "        except lang_detect_exception.LangDetectException:\n",
    "            pass"
   ]
  },
  {
   "cell_type": "code",
   "execution_count": 4,
   "metadata": {},
   "outputs": [
    {
     "output_type": "stream",
     "name": "stdout",
     "text": [
      "1015\n"
     ]
    }
   ],
   "source": [
    "print(len(languages[\"en\"]))"
   ]
  },
  {
   "cell_type": "code",
   "execution_count": 5,
   "metadata": {},
   "outputs": [
    {
     "output_type": "stream",
     "name": "stdout",
     "text": [
      "iteration: 1 of max_iter: 10\n",
      "iteration: 2 of max_iter: 10\n",
      "iteration: 3 of max_iter: 10\n",
      "iteration: 4 of max_iter: 10\n",
      "iteration: 5 of max_iter: 10\n",
      "iteration: 6 of max_iter: 10\n",
      "iteration: 7 of max_iter: 10\n",
      "iteration: 8 of max_iter: 10\n",
      "iteration: 9 of max_iter: 10\n",
      "iteration: 10 of max_iter: 10\n"
     ]
    }
   ],
   "source": [
    "vectorizer = CountVectorizer(min_df=5, max_df=0.9, stop_words='english',\n",
    "                             lowercase=True, token_pattern='[a-zA-Z\\-][a-zA-Z\\-]{2,}')\n",
    "\n",
    "data_vectorized = vectorizer.fit_transform([x[\"content\"] for x in languages[\"en\"]])\n",
    "\n",
    "NUM_TOPICS = 20\n",
    "lda = LatentDirichletAllocation(n_components=NUM_TOPICS, max_iter=10, learning_method='online',verbose=True)\n",
    "data_lda = lda.fit_transform(data_vectorized)"
   ]
  },
  {
   "cell_type": "code",
   "execution_count": 6,
   "metadata": {},
   "outputs": [],
   "source": [
    "def selected_topics(model, vectorizer, top_n=10):\n",
    "    for idx, topic in enumerate(model.components_):\n",
    "        print(\"Topic %d:\" % (idx))\n",
    "        print([(vectorizer.get_feature_names()[i], topic[i])\n",
    "                        for i in topic.argsort()[:-top_n - 1:-1]]) "
   ]
  },
  {
   "cell_type": "code",
   "execution_count": 7,
   "metadata": {},
   "outputs": [
    {
     "output_type": "stream",
     "name": "stdout",
     "text": [
      "LDA Model:\n",
      "Topic 0:\n",
      "[('add', 0.07431176744681985), ('batman', 0.06936543636785658), ('new', 0.06264394220936703), ('use', 0.06255989221185389), ('raspberry', 0.06195486669265004), ('code', 0.06153130391869498), ('port', 0.06147042654189851), ('data', 0.0612070113497002), ('machine', 0.061108013984025066), ('aws', 0.06069611065371877)]\n",
      "Topic 1:\n",
      "[('affleck', 73.7699805163911), ('snyder', 60.487345650366784), ('darkseid', 50.44075506727805), ('zack', 49.55038678067667), ('league', 46.73840649835856), ('ben', 46.3403913781781), ('batman', 45.61941151057166), ('cavill', 43.917598194681105), ('justice', 42.20553972791295), ('new', 35.947510438168244)]\n",
      "Topic 2:\n",
      "[('pico', 294.6000838257751), ('raspberry', 137.6984840775456), ('arduino', 109.7981128851849), ('image', 98.40800915280256), ('board', 84.5957175508373), ('micropython', 68.15714035535464), ('dragon', 66.85099788337742), ('code', 60.97306656705449), ('adafruit', 58.287948917973715), ('make', 57.74834421805032)]\n",
      "Topic 3:\n",
      "[('raspberry', 0.12443651452803621), ('pico', 0.0810284066291616), ('batman', 0.07117017536337866), ('like', 0.06934458585785523), ('hardware', 0.06589423840622131), ('arduino', 0.06552332051176217), ('using', 0.06533112585632306), ('data', 0.06524239301251965), ('just', 0.06410840390643138), ('use', 0.06408566748234712)]\n",
      "Topic 4:\n",
      "[('library', 24.91723846486592), ('freeze', 22.68946443536579), ('sign', 15.872054826279992), ('batman', 11.772943795296829), ('senate', 8.711251048323371), ('friends', 7.253757731153736), ('senator', 5.95810243080423), ('book', 5.6845635251989295), ('frozen', 5.515994970340102), ('refresh', 5.453396696262109)]\n",
      "Topic 5:\n",
      "[('trump', 245.79012898644086), ('election', 111.97771827763616), ('stone', 106.34266543576945), ('president', 80.57240830580548), ('said', 78.82099289184328), ('capitol', 74.06242063535397), ('plan', 60.823129668721705), ('people', 58.66348679090795), ('biden', 53.18230839516429), ('january', 50.53277226737569)]\n",
      "Topic 6:\n",
      "[('code', 301.8954216931909), ('api', 251.6011434958889), ('use', 224.9432145380992), ('net', 207.43405968815856), ('using', 193.50815947279548), ('project', 186.0147012948777), ('add', 168.7937416944549), ('core', 158.85460467788818), ('used', 155.31526199886707), ('new', 154.45460487610683)]\n",
      "Topic 7:\n",
      "[('raspberry', 557.718774600941), ('case', 217.1096159521361), ('power', 167.13486894726998), ('gpio', 148.09052334870847), ('usb', 143.94990412621954), ('fan', 112.21604811966868), ('board', 111.08204274710884), ('pro', 110.82032597754028), ('echo', 105.94746110878877), ('ports', 101.53722897657755)]\n",
      "Topic 8:\n",
      "[('kick', 652.4931909137176), ('game', 400.25217762426627), ('games', 370.8412829969982), ('feat', 366.1051327577281), ('live', 358.9832268299628), ('click', 343.2909992935463), ('free', 294.72480660846816), ('play', 259.2630360746861), ('metro', 209.73847380707932), ('stream', 196.13960994187562)]\n",
      "Topic 9:\n",
      "[('echo', 931.5138616734577), ('raspberry', 705.3320302665758), ('install', 329.8554826768388), ('use', 323.661871575299), ('need', 295.33080378355334), ('server', 294.90760423043406), ('sudo', 276.654628141993), ('file', 265.0466411177577), ('like', 192.64805403562727), ('download', 191.96385129783337)]\n",
      "Topic 10:\n",
      "[('import', 304.4551758625949), ('public', 268.4460623279482), ('android', 244.93475205860366), ('blog', 200.94303356902734), ('com', 199.24162972822936), ('class', 181.7224838177295), ('list', 161.32405597452214), ('category', 156.86495948588316), ('new', 147.78014933985347), ('using', 132.58186610162986)]\n",
      "Topic 11:\n",
      "[('raspberry', 682.6372638344012), ('use', 288.0705085295552), ('using', 262.1453977780633), ('data', 243.23513956308113), ('need', 207.22791647648384), ('access', 187.00577746851354), ('user', 186.55144131003294), ('computer', 172.06212329279822), ('model', 157.83695235027534), ('network', 151.4214392427297)]\n",
      "Topic 12:\n",
      "[('credit', 149.50767996623466), ('account', 68.1002268677487), ('months', 67.31233294825407), ('available', 62.69566992310428), ('purchases', 53.89946023090856), ('paid', 52.360692259115176), ('paypal', 50.31140761467117), ('time', 50.03910756770344), ('terms', 40.899900034914836), ('metro', 38.57815105788121)]\n",
      "Topic 13:\n",
      "[('diablo', 636.526450300872), ('blizzard', 628.1176485309868), ('overwatch', 588.894211996149), ('game', 380.9747005691091), ('year', 320.70755788766195), ('activision', 272.5557989975859), ('release', 250.73636771563915), ('new', 238.1566844344406), ('said', 197.58652489836643), ('blizzcon', 195.30493076810254)]\n",
      "Topic 14:\n",
      "[('snyder', 247.82959992222035), ('justice', 211.2425641077653), ('league', 210.60058756370714), ('cut', 103.7890335100406), ('zack', 88.96482090611674), ('knightmare', 85.27555068162354), ('batman', 50.52654339243725), ('vero', 46.15188840938549), ('hbo', 43.6695762401003), ('superman', 43.451630984590054)]\n",
      "Topic 15:\n",
      "[('islands', 103.81044065058543), ('republic', 100.44600805158895), ('saint', 69.36433896963291), ('united', 64.19022287536558), ('germany', 45.134324802033206), ('new', 42.98379397655392), ('south', 39.54512388785103), ('french', 38.37334164693432), ('italy', 30.680467619675724), ('federation', 30.410473505076492)]\n",
      "Topic 16:\n",
      "[('batman', 1674.6039594915924), ('like', 512.2185282104049), ('film', 404.08483059338204), ('just', 371.1951329488064), ('new', 345.214311597412), ('movie', 335.5473482588389), ('superman', 310.6211558005877), ('time', 299.5241755918135), ('gotham', 270.0967137129338), ('bruce', 249.1146621257734)]\n",
      "Topic 17:\n",
      "[('data', 849.6099119093063), ('pipeline', 189.07745079073234), ('warehouse', 104.05709378037388), ('research', 85.44311581388324), ('aws', 82.60900689832961), ('production', 73.28409118466955), ('provides', 72.9565189920715), ('information', 72.14024986865648), ('layer', 67.68357933281757), ('companies', 66.80683234332939)]\n",
      "Topic 18:\n",
      "[('com', 66.09948590639452), ('cat', 54.73411429972725), ('billy', 47.17332065504406), ('https', 42.33877656284399), ('home', 39.75266714911691), ('batman', 39.65890720241017), ('hot', 39.424134641815954), ('podcast', 36.58373013755629), ('looking', 29.728058962551952), ('www', 29.53163679483601)]\n",
      "Topic 19:\n",
      "[('browser', 24.621876584611677), ('javascript', 22.787865841039082), ('videos', 16.468791677843022), ('site', 13.757861288464063), ('disabled', 13.648180194452356), ('fees', 9.418714150584748), ('content', 9.314456042121721), ('movies', 7.772373584983854), ('watch', 7.271275859594147), ('legal', 6.467518791823456)]\n"
     ]
    }
   ],
   "source": [
    "print(\"LDA Model:\")\n",
    "selected_topics(lda, vectorizer)"
   ]
  },
  {
   "cell_type": "code",
   "execution_count": 9,
   "metadata": {
    "tags": []
   },
   "outputs": [
    {
     "output_type": "stream",
     "name": "stdout",
     "text": [
      "topic: [('add', 0.07431176744681985), ('batman', 0.06936543636785658), ('new', 0.06264394220936703), ('use', 0.06255989221185389), ('raspberry', 0.06195486669265004), ('code', 0.06153130391869498), ('port', 0.06147042654189851), ('data', 0.0612070113497002), ('machine', 0.061108013984025066), ('aws', 0.06069611065371877)]\nurl: https://www.teachingschools-sw.org.uk/news/send-a-message-to-space-on-astro-pi-mission-zero-and-cyberfirst-role-model-talk-with-west-country-computing-hub\ncontent: Who we are\n"
     ]
    }
   ],
   "source": [
    "topics = []\n",
    "top_n = 10\n",
    "for idx, topic in enumerate(lda.components_):\n",
    "    words = [(vectorizer.get_feature_names()[i], topic[i])\n",
    "                        for i in topic.argsort()[:-top_n - 1:-1]]\n",
    "    topics.append(words)\n",
    "\n",
    "for item in languages[\"en\"]:\n",
    "    x = lda.transform(vectorizer.transform([item[\"content\"]]))[0]\n",
    "    topic_idx = np.argmax(x, axis=0)\n",
    "    print(\"topic: {}\\nurl: {}\\ncontent: {}\".format(topics[topic_idx], item[\"item\"][\"url\"], item[\"content\"][:250]))\n",
    "    break"
   ]
  },
  {
   "cell_type": "code",
   "execution_count": null,
   "metadata": {},
   "outputs": [],
   "source": []
  },
  {
   "cell_type": "code",
   "execution_count": null,
   "metadata": {},
   "outputs": [],
   "source": []
  }
 ]
}