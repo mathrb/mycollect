{
 "metadata": {
  "language_info": {
   "codemirror_mode": {
    "name": "ipython",
    "version": 3
   },
   "file_extension": ".py",
   "mimetype": "text/x-python",
   "name": "python",
   "nbconvert_exporter": "python",
   "pygments_lexer": "ipython3",
   "version": "3.8.5-final"
  },
  "orig_nbformat": 2,
  "kernelspec": {
   "name": "python3",
   "display_name": "Python 3.8.5 64-bit ('mycollect')",
   "metadata": {
    "interpreter": {
     "hash": "79659b86bc486e67c7a7aa46b33108b775074a8ad5476d22cd5c3c05552b260a"
    }
   }
  }
 },
 "nbformat": 4,
 "nbformat_minor": 2,
 "cells": [
  {
   "cell_type": "code",
   "execution_count": 38,
   "metadata": {},
   "outputs": [],
   "source": [
    "import json \n",
    "import tqdm\n",
    "import re\n",
    "import numpy as np\n",
    "\n",
    "from langdetect import detect, lang_detect_exception\n",
    "from collections import defaultdict\n",
    "from spacy_langdetect import LanguageDetector\n",
    "\n",
    "from sklearn.feature_extraction.text import CountVectorizer\n",
    "from sklearn.decomposition import NMF, LatentDirichletAllocation, TruncatedSVD\n"
   ]
  },
  {
   "cell_type": "code",
   "execution_count": 39,
   "metadata": {},
   "outputs": [
    {
     "output_type": "stream",
     "name": "stderr",
     "text": [
      "13973it [00:38, 363.32it/s]\n"
     ]
    }
   ],
   "source": [
    "languages = defaultdict(list)\n",
    "urls = set()\n",
    "tweet_texts = set()\n",
    "for line in tqdm.tqdm(open(\"data/2021_02_05.jsonl\")):\n",
    "    data = json.loads(line)\n",
    "    data = data[\"data\"]\n",
    "    tweet_text = re.sub(r'''(?i)\\b((?:https?://|www\\d{0,3}[.]|[a-z0-9.\\-]+[.][a-z]{2,4}/)(?:[^\\s()<>]+|\\(([^\\s()<>]+|(\\([^\\s()<>]+\\)))*\\))+(?:\\(([^\\s()<>]+|(\\([^\\s()<>]+\\)))*\\)|[^\\s`!()\\[\\]{};:'\".,<>?«»“”‘’]))''', \" \", data[\"text\"])\n",
    "    if data[\"url\"] not in urls and tweet_text not in tweet_texts and \"article\" in data[\"extra\"]:\n",
    "        tweet_texts.add(tweet_text)\n",
    "        urls.add(data[\"url\"])\n",
    "        article = data[\"extra\"][\"article\"]\n",
    "        #content = \"{}\\n{}\\n{}\".format(article[\"title\"], article[\"text\"], article[\"keywords\"])\n",
    "        content = article[\"title\"] + \" . \" + article[\"text\"]\n",
    "        try:\n",
    "            lang = detect(content)\n",
    "            languages[lang].append({\"content\": content, \"item\": data})\n",
    "        except lang_detect_exception.LangDetectException:\n",
    "            pass"
   ]
  },
  {
   "cell_type": "code",
   "execution_count": 40,
   "metadata": {},
   "outputs": [
    {
     "output_type": "stream",
     "name": "stdout",
     "text": [
      "1266\n"
     ]
    }
   ],
   "source": [
    "print(len(languages[\"en\"]))"
   ]
  },
  {
   "cell_type": "code",
   "execution_count": 41,
   "metadata": {},
   "outputs": [
    {
     "output_type": "stream",
     "name": "stdout",
     "text": [
      "iteration: 1 of max_iter: 20\n",
      "iteration: 2 of max_iter: 20\n",
      "iteration: 3 of max_iter: 20\n",
      "iteration: 4 of max_iter: 20\n",
      "iteration: 5 of max_iter: 20\n",
      "iteration: 6 of max_iter: 20\n",
      "iteration: 7 of max_iter: 20\n",
      "iteration: 8 of max_iter: 20\n",
      "iteration: 9 of max_iter: 20\n",
      "iteration: 10 of max_iter: 20\n",
      "iteration: 11 of max_iter: 20\n",
      "iteration: 12 of max_iter: 20\n",
      "iteration: 13 of max_iter: 20\n",
      "iteration: 14 of max_iter: 20\n",
      "iteration: 15 of max_iter: 20\n",
      "iteration: 16 of max_iter: 20\n",
      "iteration: 17 of max_iter: 20\n",
      "iteration: 18 of max_iter: 20\n",
      "iteration: 19 of max_iter: 20\n",
      "iteration: 20 of max_iter: 20\n"
     ]
    }
   ],
   "source": [
    "vectorizer = CountVectorizer(min_df=5, max_df=0.9, stop_words='english',\n",
    "                             lowercase=True, token_pattern='[a-zA-Z\\-][a-zA-Z\\-]{2,}')\n",
    "\n",
    "data_vectorized = vectorizer.fit_transform([x[\"content\"] for x in languages[\"en\"]])\n",
    "\n",
    "NUM_TOPICS = 20\n",
    "lda = LatentDirichletAllocation(n_components=NUM_TOPICS, max_iter=20, learning_method='online',verbose=True)\n",
    "data_lda = lda.fit_transform(data_vectorized)"
   ]
  },
  {
   "cell_type": "code",
   "execution_count": 42,
   "metadata": {},
   "outputs": [],
   "source": [
    "def selected_topics(model, vectorizer, top_n=10):\n",
    "    for idx, topic in enumerate(model.components_):\n",
    "        print(\"Topic %d:\" % (idx))\n",
    "        print([(vectorizer.get_feature_names()[i], topic[i])\n",
    "                        for i in topic.argsort()[:-top_n - 1:-1]]) "
   ]
  },
  {
   "cell_type": "code",
   "execution_count": 43,
   "metadata": {},
   "outputs": [
    {
     "output_type": "stream",
     "name": "stdout",
     "text": [
      "LDA Model:\n",
      "Topic 0:\n",
      "[('raspberry', 154.78419243050303), ('driver', 116.4606157703367), ('rtl', 115.84501306743468), ('wireless', 102.42171865499766), ('wifi', 93.49727235954511), ('realtek', 69.18982347036949), ('console', 45.8187665179099), ('firmware', 45.490462639147054), ('power', 45.33801473690249), ('box', 40.627909570589054)]\n",
      "Topic 1:\n",
      "[('batman', 142.9465692280746), ('superman', 93.34460973774662), ('new', 89.63692519889989), ('affleck', 77.3977899413624), ('movie', 73.86347494272778), ('com', 67.69214689043203), ('series', 65.80161921823158), ('arthur', 64.97432094982223), ('ben', 61.74775932245859), ('reeves', 51.537635366376335)]\n",
      "Topic 2:\n",
      "[('use', 159.5477806904329), ('user', 151.64019816327578), ('audio', 133.44232474341135), ('output', 131.8582160685391), ('device', 117.90171974295093), ('sync', 116.83960810997218), ('used', 100.81984421163237), ('make', 99.33763083598711), ('protocol', 84.53412991352104), ('using', 80.97874060926964)]\n",
      "Topic 3:\n",
      "[('days', 54.90461534194452), ('items', 45.516491736717555), ('order', 37.94882625657933), ('item', 35.17425078308741), ('shipping', 34.59756713218069), ('fees', 20.944763597606848), ('customs', 20.668924865222994), ('value', 15.547033567723835), ('orders', 15.076526773020355), ('business', 14.880504205814862)]\n",
      "Topic 4:\n",
      "[('game', 505.08551402332904), ('games', 443.5446572837105), ('free', 361.70444463993465), ('metro', 291.22938665757164), ('epic', 250.45279670886015), ('light', 218.87377862036016), ('store', 176.8045004971661), ('redux', 171.17141267647247), ('king', 164.9515099062444), ('steam', 132.3580222047517)]\n",
      "Topic 5:\n",
      "[('data', 1159.231504771994), ('pipeline', 313.454940199333), ('aws', 177.11491282552203), ('information', 120.29172944459339), ('services', 115.67362968318399), ('product', 114.56518880868603), ('model', 111.31231609028792), ('use', 109.12884381867616), ('warehouse', 108.47600221600334), ('production', 99.55424009886873)]\n",
      "Topic 6:\n",
      "[('twitch', 102.49789549928741), ('achievements', 8.659823859279), ('xbox', 1.8649858218911635), ('playing', 1.8432816738551652), ('having', 0.9403271430780943), ('currently', 0.9382437825619365), ('heart', 0.9380279009365325), ('console', 0.9356087560236819), ('biography', 0.9355762018735678), ('gamer', 0.9355419685135132)]\n",
      "Topic 7:\n",
      "[('islands', 99.64970142208304), ('republic', 99.39049623605655), ('saint', 68.85252008214587), ('united', 61.35848257614773), ('new', 48.27445406221082), ('south', 45.519645221606986), ('germany', 43.67790435873126), ('french', 38.60370902536415), ('canada', 30.323397260364764), ('italy', 30.081034419665066)]\n",
      "Topic 8:\n",
      "[('pico', 263.3413419930052), ('code', 201.50860900763087), ('board', 165.20974228135432), ('core', 146.28216421750153), ('support', 131.2206450656287), ('arduino', 115.9525887507447), ('api', 111.78188283154716), ('project', 102.41261099024968), ('new', 89.60164408401064), ('raspberry', 86.77605430417927)]\n",
      "Topic 9:\n",
      "[('trump', 240.44209506522884), ('said', 233.42515984194756), ('people', 227.55254618549085), ('like', 137.1714828239073), ('really', 136.3075907243311), ('stone', 121.30220408942478), ('election', 111.8334403097362), ('news', 89.87543544737346), ('just', 86.42915793809837), ('president', 84.49825016931513)]\n",
      "Topic 10:\n",
      "[('raspberry', 1802.4601963599127), ('use', 564.7991103852781), ('need', 509.4516192886303), ('like', 350.5115183443956), ('want', 295.48432908240125), ('install', 290.82509114355605), ('available', 289.1531073104699), ('computer', 281.8501278591809), ('time', 255.71342292163078), ('case', 247.4510213693763)]\n",
      "Topic 11:\n",
      "[('sign', 21.738834011135815), ('apron', 11.212113043482479), ('daily', 10.815880917199951), ('friends', 10.523219370151633), ('batman', 9.080537722818853), ('policy', 8.690497822772276), ('error', 6.895047665768363), ('piday', 6.879478147705758), ('review', 6.591345021622705), ('newsletter', 6.5553088905388)]\n",
      "Topic 12:\n",
      "[('electricity', 48.385607051011235), ('mining', 47.55226268621076), ('printer', 45.587838170344824), ('cryptocurrency', 32.826956030964666), ('solar', 23.87158387648039), ('scores', 22.09734679087086), ('javascript', 21.73489972986902), ('center', 20.75800204651928), ('energy', 20.529138469551032), ('lines', 15.745947010151605)]\n",
      "Topic 13:\n",
      "[('diablo', 707.0692107050453), ('overwatch', 665.3846729408235), ('blizzard', 608.915695464164), ('year', 347.15244165874753), ('game', 321.7439009844808), ('activision', 280.7063509826681), ('release', 276.10823614545075), ('new', 218.176080593609), ('launch', 187.33326155320017), ('said', 184.4175577026011)]\n",
      "Topic 14:\n",
      "[('batman', 1609.8500693113008), ('like', 323.2137796957768), ('gotham', 282.72033050898295), ('just', 248.24180461612744), ('joker', 241.774723358659), ('dark', 239.10562474758763), ('superman', 236.54449760484758), ('new', 236.0327614323757), ('comics', 214.70177430117985), ('bruce', 212.89743553914462)]\n",
      "Topic 15:\n",
      "[('import', 343.8944253558065), ('using', 328.7897568398437), ('public', 305.1543390771475), ('android', 269.65184900758504), ('new', 269.1440600328554), ('com', 268.9013431376203), ('server', 257.10012533637564), ('microsoft', 241.16397885158534), ('blog', 218.52489584924305), ('net', 215.75875518507507)]\n",
      "Topic 16:\n",
      "[('batman', 202.27018411789828), ('figure', 73.82318810626637), ('logo', 44.62520919426178), ('figures', 42.683716101347166), ('statue', 42.26872153002973), ('comes', 39.23896976826283), ('toys', 38.69397493954245), ('mask', 36.03648106459976), ('available', 35.57622602151222), ('batarang', 34.946642365050245)]\n",
      "Topic 17:\n",
      "[('kick', 416.95905529637923), ('live', 198.84268620655044), ('feat', 193.72364010952575), ('click', 187.37078451314878), ('stream', 103.49094418989557), ('dragon', 95.32774845816598), ('martial', 94.93143900397135), ('info', 93.8695183441058), ('arts', 92.51924108299629), ('play', 91.42482646116086)]\n",
      "Topic 18:\n",
      "[('echo', 1010.139017540815), ('argon', 72.98419800800706), ('fan', 71.33942305097598), ('bin', 43.0519626528922), ('script', 42.22563251249521), ('gpio', 36.57522192807204), ('usr', 33.46133018793271), ('speed', 30.407967347302097), ('file', 28.77988215445572), ('python', 25.738047305110516)]\n",
      "Topic 19:\n",
      "[('snyder', 306.0648379464419), ('league', 258.4425502325288), ('justice', 253.88378005121857), ('batman', 146.30792012613122), ('zack', 124.38275973325777), ('cut', 111.07523555907635), ('knightmare', 96.40810405510938), ('image', 77.05723276495152), ('new', 73.92547118965024), ('movie', 49.38578096901241)]\n"
     ]
    }
   ],
   "source": [
    "print(\"LDA Model:\")\n",
    "selected_topics(lda, vectorizer)"
   ]
  },
  {
   "cell_type": "code",
   "execution_count": 44,
   "metadata": {
    "tags": []
   },
   "outputs": [],
   "source": [
    "topics = []\n",
    "top_n = 10\n",
    "for idx, topic in enumerate(lda.components_):\n",
    "    words = [(vectorizer.get_feature_names()[i], topic[i])\n",
    "                        for i in topic.argsort()[:-top_n - 1:-1]]\n",
    "    topics.append(words)\n",
    "\n",
    "items_topics = defaultdict(list)\n",
    "for item in languages[\"en\"]:\n",
    "    x = lda.transform(vectorizer.transform([item[\"content\"]]))[0]\n",
    "    topic_idx = np.argmax(x, axis=0)\n",
    "    items_topics[topic_idx].append({\"item\": item, \"score\": x[topic_idx]})\n",
    "    #print(\"topic: {}\\nurl: {}\\ncontent: {}\".format(topics[topic_idx], item[\"item\"][\"url\"], item[\"content\"][:250]))\n",
    "    #break"
   ]
  },
  {
   "cell_type": "code",
   "execution_count": 45,
   "metadata": {},
   "outputs": [
    {
     "output_type": "stream",
     "name": "stdout",
     "text": [
      "diablo,overwatch,blizzard,year\n\tDiablo 4, Overwatch 2 Not Launching In 2021 Says Activision Blizzard - Screen Rant https://t.co/jCoDLps7Gc\n\tDiablo 4, Overwatch 2 Not Launching In 2021 Says Activision Blizzard..In an earnings call, Activision Blizzard conf… https://t.co/xKKaWADQUw\n\tActivision Blizzard Doesn’t Expect To Release Overwatch 2 Or Diablo 4 This Year.https://t.co/XMzA1rjzXx https://t.co/zE0QdTscra\n\nraspberry,use,need,like\n\tHow to Create an Image of a Raspberry Pi SD Card? (Win/Linux/Mac) https://t.co/dsAZ0mhBXi #raspberrypi https://t.co/j1J3s1hTs3\n\tHow to Install Manjaro on Raspberry Pi? https://t.co/B4pAJHUG5r #raspberrypi https://t.co/IhUFlxls9a\n\t6 cheap Raspberry Pi 4 Cases for under £20 https://t.co/vJOisRwJCp via @jmdawson_blog\n\nimport,using,public,android\n\tRT @codewallblog: Running .Net Core Generic Host as a Windows Service, Linux Daemon or Console App - https://t.co/62XTpgHpvu   #Developer #…\n\tRT @AramT87: My Latest Article: A Complete Tutorial to Connect Android with ASP .NET Core Web API..#android #aspnetcore #dotnetcore #dotnet…\n\tSearch your #sitecore #Solr indexes from a .NET Core application? No problem. https://t.co/vFbh5RHSNi\n\ntwitch,achievements,xbox,playing\n\tI won 3 achievements in Batman: The Enemy Within - The Telltale Series for 150 points on #TrueAchievements https://t.co/r8iY92CBSq\n\tPlease go support this gorgeous lady. She's doing a 24 hour stream right now.\n\tSMH I need to finish this game already (Batman: The Enemy Within). https://t.co/OcEVvXMyck\n\ntrump,said,people,like\n\tThe Batman Cast Member Reveals Details About Colin Farrell's Penguin https://t.co/Oup48h8THG #Gaming #VideoGames #WoW\n\tThe Batman Cast Member Reveals Details About Colin Farrell's Penguin https://t.co/lOph7cYlpt\n\tThe Batman Cast Member Reveals Details About Colin Farrell's Unrecognizable Penguin https://t.co/0Reol7BD6q\n\nbatman,like,gotham,just\n\t10 Times Robin Let Batman Down | CBR - CBR - Comic Book Resources https://t.co/SOkJc0BGyb\n\t10 Times Robin Let Batman Down https://t.co/pp1sNiOpbE https://t.co/C1IrdDaPH8\n\tBatman: Why White Knight Has Two Harley Quinns | CBR - CBR - Comic Book Resources https://t.co/OZxPCC7Wbz\n\nsnyder,league,justice,batman\n\tJustice League Snyder Cut's Knightmare Batman First Look Image - Screen Rant https://t.co/u6iPWszm9J #batman… https://t.co/cXpK4imOHB\n\tRT @screenrant: The first look at Knightmare Batman from #ZackSnydersJusticeLeague has been revealed. https://t.co/qMugsDU5RS https://t.co/…\n\t3y3 as3m oo\n\nuse,user,audio,output\n\tAn open-source AirPlay mirroring server for the Raspberry Pi. Supports iOS 9 and up. https://t.co/khdVL2OOmo\n\tAn open-source AirPlay mirroring server for the Raspberry Pi https://t.co/V58bOXVWqE\n\t📰 An open-source AirPlay mirroring server for the Raspberry Pi https://t.co/T4i6aH8qB5 #hackernews #open-source… https://t.co/6xS5U66WC0\n\ngame,games,free,metro\n\t'For The King' And 'Metro: Last Light' Free On Epic Games Store, 'Halcyon 6 Starbase Commander' Next Week https://t.co/1AnbPcxdrI\n\tMetro Last Light Redux and For the King Are Free on Epic Games Store https://t.co/BhEy9m5Lmf\n\tMetro Last Light Redux and For the King Are Free on Epic Games Store https://t.co/hTBy2Wn3IG https://t.co/IbhnEJQ4m5\n\nbatman,figure,logo,figures\n\thttps://t.co/pd16RzYgYV Batman Beyond McFarlane Figure Open For Pre-Order https://t.co/ZdQ80nu3PZ https://t.co/SjU6T7zFkC\n\tTarget-Exclusive Batman Beyond McFarlane Figure Open For Pre-Order https://t.co/TmFuSMfT0h https://t.co/q9FNPmzjRv\n\tTarget-Exclusive Batman Beyond McFarlane Figure Open For Pre-Order https://t.co/cXMUfhzPnB\n\nkick,live,feat,click\n\tRT @DarlinggMia: Just sold! Catwoman Cums for Batman https://t.co/9lhiwsi1dm #MVSales https://t.co/qeaH31EIoP\n\tRT @Mrs_DarkCuckold: Thank you for buying! MrsDarkCuckold's Batman Begins https://t.co/FhQIsNHcan #MVSales https://t.co/cA1RGYymVc\n\tRT @SarahSerioArt: Join some great #comic creators for free panels! Sign up at https://t.co/eJnT1Osmr1! @andeparks @philhester @SadMeganGir…\n\nsign,apron,daily,friends\n\tMarked as to-read: Batman by Sean Gordon Murphy https://t.co/cafTp9D05P\n\t5 of 5 stars to Batman by Sean Gordon Murphy https://t.co/IXupNA0r0m\n\t3 of 5 stars to Batman by Dennis O'Neil https://t.co/0CUYmisbX9\n\ndays,items,order,item\n\thttps://t.co/Z0xFCrjJfO 💥 EVEN MORE #COMICS LISTED! YES MORE!! #MARVEL #DCComics #BATMAN #JOKER #BANE #Spiderman… https://t.co/yEPDwEotyY\n\thttps://t.co/ukwdNcARoV 💥 LIVE #COMICS AUCTIONS!! #Marvel #DCComics #Avengers #BATMAN #SpiderMan #VENOM #GhostRider… https://t.co/EHytjxoIj9\n\tDEATHSTROKE #6 CBCS 9.6 WHITE PAGES DC 52 COMICS 2015 TONY DANIEL! Category: Batman Location: North Miami Beach, FL… https://t.co/o6EQxnRg4D\n\nbatman,superman,new,affleck\n\tRT @IGN: We're excited to bring you a new way to celebrate all of your favorite games, movies, and TV shows: IGN Fan Fest!..From spotlights…\n\tRT @Terri_Schwartz: Introducing IGN Fan Fest, a free, two-day virtual event with spotlights on some of the biggest upcoming games and enter…\n\t👍 on @YouTube: 10 Batman The Animated Series Hidden Easter Eggs https://t.co/8OPqz6C6Ol\n\npico,code,board,core\n\tGet Access https://t.co/MZtOnOyEo9 Core 5 and React: Full-stack web development using .NET 5, React 17, and TypeScr… https://t.co/8KX8BgCGoP\n\tHow to Blink an LED with Raspberry Pi Pico in C @Raspberry_Pi #PiDay #RaspberryPi https://t.co/z4Ra1joGPY\n\tHow to Blink an LED with Raspberry Pi Pico in C @Raspberry_Pi #PiDay #RaspberryPi https://t.co/1XyMVPOMAJ https://t.co/MbVYQYzh6Z\n\ndata,pipeline,aws,information\n\tReference architecture helps to adopt proven best practices. AWS has catalog of such reference architecture for clo… https://t.co/LChL3lGNjZ\n\tApplying FAIRness: Redesigning a Biomedical Informatics Research Data Management Pipeline https://t.co/Pnq99FfDx8\n\thttps://t.co/2l04QSeNHl C-Raf Kinase Inhibitor Pipeline Insight Report 2020: HyNap-Sora, Sorafenib/MG 010, APL-102,… https://t.co/lmsJZqzXTb\n\nraspberry,driver,rtl,wireless\n\tRealtek rtl8822BU Wifi Driver Raspberry Pi Installation https://t.co/JNaehggBCi\n\tRealtek rtl8192EU Wifi Driver Raspberry Pi Installation https://t.co/9agLksnejo\n\tRealtek rtl8812AU Wifi Driver Raspberry Pi Installation https://t.co/S6m7Rbcs3c\n\nelectricity,mining,printer,cryptocurrency\n\t\"raspberry pico\" 3D Models to Print - yeggi https://t.co/UWvDSH4Xps\n\tFav dc superhero??  (Other than Batman lol) — Arrow  https://t.co/y0SqzSiIPn\n\tis it not batman — maybe it's his favorite marvel superhero? i don't remember but he said it in an instagram live a… https://t.co/CB84hGFBnG\n\nislands,republic,saint,united\n\tBatman The Maxx, Arkham Dreams 1 cgc 9.8 SSx1 Moy - BATMAN SKETCH BACKSIDE! 400! Category: Other Modern Age Superhe… https://t.co/jxsxUu9cuL\n\tNEW LEGO BATMAN MINIFIGURES - Split from 76052 - Batman TV Series - The Batcave https://t.co/VWM3Qm2oma via… https://t.co/0JfqnB1OTR\n\tCheck out Batman The Dark Knight New Era 9Fifty Reverse Hero Snapback Baseball Cap S-M #NewEra https://t.co/1LtsVvyVjh via @eBay\n\necho,argon,fan,bin\n\tmodified Argon One case fan https://t.co/b69auUSeZt\n\tmodified Argon One case fan script for Raspberry Pi 4 (without systemd) https://t.co/63x4rEAxSk #Slackware-ARM\n\n"
     ]
    }
   ],
   "source": [
    "for key in items_topics:\n",
    "    bests = sorted(items_topics[key], key=lambda x: x[\"score\"], reverse=True)\n",
    "    print(\",\".join([i[0] for i in topics[key][:4]]))\n",
    "    print(\"\\t{}\".format(\"\\n\\t\".join([i[\"item\"][\"item\"][\"text\"].replace(\"\\n\", \".\") for i in bests[:3]])))\n",
    "    print()"
   ]
  },
  {
   "cell_type": "code",
   "execution_count": null,
   "metadata": {},
   "outputs": [],
   "source": []
  },
  {
   "cell_type": "code",
   "execution_count": null,
   "metadata": {},
   "outputs": [],
   "source": []
  }
 ]
}
